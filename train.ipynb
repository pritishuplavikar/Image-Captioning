{
 "cells": [
  {
   "cell_type": "code",
   "execution_count": 1,
   "metadata": {},
   "outputs": [
    {
     "name": "stderr",
     "output_type": "stream",
     "text": [
      "Using Theano backend.\n",
      "Using cuDNN version 6021 on context None\n",
      "Mapped name None to device cuda0: GeForce GTX 960M (0000:02:00.0)\n"
     ]
    }
   ],
   "source": [
    "import glob\n",
    "from PIL import Image\n",
    "import numpy as np\n",
    "import matplotlib.pyplot as plt\n",
    "import pickle\n",
    "from tqdm import tqdm\n",
    "import pandas as pd\n",
    "from keras.preprocessing import sequence\n",
    "from keras.models import Sequential\n",
    "from keras.layers import LSTM, Embedding, TimeDistributed, Dense, RepeatVector, Merge, Activation, Flatten, Lambda\n",
    "from keras.optimizers import Adam, RMSprop\n",
    "from keras.layers.wrappers import Bidirectional\n",
    "from keras.applications.inception_v3 import InceptionV3\n",
    "from keras.preprocessing import image\n",
    "from keras.callbacks import ModelCheckpoint, History\n",
    "import nltk"
   ]
  },
  {
   "cell_type": "code",
   "execution_count": 1,
   "metadata": {},
   "outputs": [
    {
     "name": "stderr",
     "output_type": "stream",
     "text": [
      "Using Theano backend.\n",
      "Using cuDNN version 6021 on context None\n",
      "Mapped name None to device cuda0: GeForce GTX 960M (0000:02:00.0)\n"
     ]
    },
    {
     "name": "stdout",
     "output_type": "stream",
     "text": [
      "7000\n",
      "447904\n"
     ]
    }
   ],
   "source": [
    "token = './Flickr8k_text/Flickr8k.token.txt'\n",
    "\n",
    "captions = open(token, 'r').read().strip().split('\\n')\n",
    "\n",
    "d = {}\n",
    "for i, row in enumerate(captions):\n",
    "    row = row.split('\\t')\n",
    "    row[0] = row[0][:len(row[0])-2]\n",
    "    if row[0] in d:\n",
    "        d[row[0]].append(row[1])\n",
    "    else:\n",
    "        d[row[0]] = [row[1]]\n",
    "\n",
    "images = './Flickr8k_Dataset/Flickr8k_Dataset/'\n",
    "\n",
    "img = glob.glob(images+'*.jpg')\n",
    "\n",
    "train_images_file = './Flickr8k_text/Flickr_8k.trainImages.txt'\n",
    "ti = set(open(train_images_file, 'r').read().strip().split('\\n'))\n",
    "\n",
    "train_images = ti|val_images\n",
    "\n",
    "def split_data(l):\n",
    "    temp = []\n",
    "    for i in img:\n",
    "        if i[len(images):] in l:\n",
    "            temp.append(i)\n",
    "    return temp\n",
    "\n",
    "train_img = split_data(train_images)\n",
    "print(len(train_img))\n",
    "\n",
    "test_images_file = './Flickr8k_text/Flickr_8k.testImages.txt'\n",
    "test_images = set(open(test_images_file, 'r').read().strip().split('\\n'))\n",
    "\n",
    "test_img = split_data(test_images)\n",
    "\n",
    "def preprocess_input(x):\n",
    "    x /= 255.\n",
    "    x -= 0.5\n",
    "    x *= 2.\n",
    "    return x\n",
    "\n",
    "def preprocess(image_path):\n",
    "    img = image.load_img(image_path, target_size=(299, 299))\n",
    "    x = image.img_to_array(img)\n",
    "    x = np.expand_dims(x, axis=0)\n",
    "\n",
    "    x = preprocess_input(x)\n",
    "    return x\n",
    "\n",
    "model = InceptionV3(weights='imagenet')\n",
    "\n",
    "from keras.models import Model\n",
    "\n",
    "new_input = model.input\n",
    "hidden_layer = model.layers[-2].output\n",
    "\n",
    "model_new = Model(new_input, hidden_layer)\n",
    "\n",
    "def encode(image):\n",
    "    image = preprocess(image)\n",
    "    temp_enc = model_new.predict(image)\n",
    "    temp_enc = np.reshape(temp_enc, temp_enc.shape[1])\n",
    "    return temp_enc\n",
    "\n",
    "# encoding_train = {}\n",
    "# for img in tqdm(train_img):\n",
    "#     encoding_train[img[len(images):]] = encode(img)\n",
    "    \n",
    "# with open(\"encoded_images_inceptionV3.p\", \"wb\") as encoded_pickle:\n",
    "#     pickle.dump(encoding_train, encoded_pickle)\n",
    "    \n",
    "# encoding_train = pickle.load(open('encoded_images_inceptionV3.p', 'rb'))\n",
    "\n",
    "# encoding_test = {}\n",
    "# for img in tqdm(test_img):\n",
    "#     encoding_test[img[len(images):]] = encode(img)\n",
    "    \n",
    "# with open(\"encoded_images_test_inceptionV3.p\", \"wb\") as encoded_pickle:\n",
    "#     pickle.dump(encoding_test, encoded_pickle)\n",
    "    \n",
    "# encoding_test = pickle.load(open('encoded_images_test_inceptionV3.p', 'rb'))\n",
    "\n",
    "train_d = {}\n",
    "for i in train_img:\n",
    "    if i[len(images):] in d:\n",
    "        train_d[i] = d[i[len(images):]]\n",
    "\n",
    "test_d = {}\n",
    "for i in test_img:\n",
    "    if i[len(images):] in d:\n",
    "        test_d[i] = d[i[len(images):]]\n",
    "        \n",
    "caps = []\n",
    "for key, val in train_d.items():\n",
    "    for i in val:\n",
    "        caps.append('<start> ' + i + ' <end>')\n",
    "\n",
    "words = [i.split() for i in caps]\n",
    "\n",
    "unique = []\n",
    "for i in words:\n",
    "    unique.extend(i)\n",
    "    \n",
    "unique = list(set(unique))\n",
    "\n",
    "with open(\"unique.p\", \"wb\") as pickle_d:\n",
    "    pickle.dump(unique, pickle_d)\n",
    "\n",
    "# unique = pickle.load(open('unique.p', 'rb'))\n",
    "\n",
    "word2idx = {val:index for index, val in enumerate(unique)}\n",
    "\n",
    "idx2word = {index:val for index, val in enumerate(unique)}\n",
    "\n",
    "max_len = 0\n",
    "for c in caps:\n",
    "    c = c.split()\n",
    "    if len(c) > max_len:\n",
    "        max_len = len(c)\n",
    "\n",
    "vocab_size = len(unique)\n",
    "\n",
    "f = open('flickr8k_training_dataset.txt', 'w')\n",
    "f.write(\"image_id\\tcaptions\\n\")\n",
    "\n",
    "for key, val in train_d.items():\n",
    "    for i in val:\n",
    "        f.write(key[len(images):] + \"\\t\" + \"<start> \" + i +\" <end>\" + \"\\n\")\n",
    "\n",
    "f.close()\n",
    "\n",
    "df = pd.read_csv('flickr8k_training_dataset.txt', delimiter='\\t')\n",
    "\n",
    "c = [i for i in df['captions']]\n",
    "\n",
    "imgs = [i for i in df['image_id']]\n",
    "\n",
    "samples_per_epoch = 0\n",
    "for ca in caps:\n",
    "    samples_per_epoch += len(ca.split())-1\n",
    "    \n",
    "print(samples_per_epoch)\n",
    "    \n",
    "def data_generator(batch_size = 32):\n",
    "    partial_caps = []\n",
    "    next_words = []\n",
    "    images = []\n",
    "\n",
    "    df = pd.read_csv('flickr8k_training_dataset.txt', delimiter='\\t')\n",
    "    df = df.sample(frac=1)\n",
    "    iter = df.iterrows()\n",
    "    c = []\n",
    "    imgs = []\n",
    "    for i in range(df.shape[0]):\n",
    "        x = next(iter)\n",
    "        c.append(x[1][1])\n",
    "        imgs.append(x[1][0])\n",
    "\n",
    "\n",
    "    count = 0\n",
    "    while True:\n",
    "        for j, text in enumerate(c):\n",
    "            current_image = encoding_train[imgs[j]]\n",
    "            for i in range(len(text.split())-1):\n",
    "                count+=1\n",
    "\n",
    "                # Forming partial captions and setting the next word in the caption as the target\n",
    "                \n",
    "                partial = [word2idx[txt] for txt in text.split()[:i+1]]\n",
    "                partial_caps.append(partial)\n",
    "\n",
    "                n = np.zeros(vocab_size)\n",
    "                n[word2idx[text.split()[i+1]]] = 1\n",
    "                next_words.append(n)\n",
    "\n",
    "                images.append(current_image)\n",
    "\n",
    "                if count>=batch_size:\n",
    "                    next_words = np.asarray(next_words)\n",
    "                    images = np.asarray(images)\n",
    "                    partial_caps = sequence.pad_sequences(partial_caps, maxlen=max_len, padding='post')\n",
    "                    yield [[images, partial_caps], next_words]\n",
    "                    partial_caps = []\n",
    "                    next_words = []\n",
    "                    images = []\n",
    "                    count = 0"
   ]
  },
  {
   "cell_type": "code",
   "execution_count": 9,
   "metadata": {},
   "outputs": [
    {
     "ename": "Exception",
     "evalue": "('Not a Keras tensor:', <keras.layers.core.Lambda object at 0x7f2a05edb470>)",
     "output_type": "error",
     "traceback": [
      "\u001b[0;31m---------------------------------------------------------------------------\u001b[0m",
      "\u001b[0;31mException\u001b[0m                                 Traceback (most recent call last)",
      "\u001b[0;32m<ipython-input-9-b4c4a898b031>\u001b[0m in \u001b[0;36m<module>\u001b[0;34m()\u001b[0m\n\u001b[1;32m      8\u001b[0m \u001b[0mmodel\u001b[0m\u001b[0;34m.\u001b[0m\u001b[0madd\u001b[0m\u001b[0;34m(\u001b[0m\u001b[0mRepeatVector\u001b[0m\u001b[0;34m(\u001b[0m\u001b[0;36m3\u001b[0m\u001b[0;34m)\u001b[0m\u001b[0;34m)\u001b[0m\u001b[0;34m\u001b[0m\u001b[0m\n\u001b[1;32m      9\u001b[0m \u001b[0;34m\u001b[0m\u001b[0m\n\u001b[0;32m---> 10\u001b[0;31m \u001b[0mo\u001b[0m \u001b[0;34m=\u001b[0m \u001b[0mmodel\u001b[0m\u001b[0;34m(\u001b[0m\u001b[0ma\u001b[0m\u001b[0;34m)\u001b[0m\u001b[0;34m\u001b[0m\u001b[0m\n\u001b[0m\u001b[1;32m     11\u001b[0m \u001b[0;34m\u001b[0m\u001b[0m\n\u001b[1;32m     12\u001b[0m \u001b[0mprint\u001b[0m \u001b[0;34m(\u001b[0m\u001b[0mo\u001b[0m\u001b[0;34m.\u001b[0m\u001b[0mshape\u001b[0m\u001b[0;34m)\u001b[0m\u001b[0;34m\u001b[0m\u001b[0m\n",
      "\u001b[0;32m/usr/local/lib/python3.5/dist-packages/keras/engine/topology.py\u001b[0m in \u001b[0;36m__call__\u001b[0;34m(self, x, mask)\u001b[0m\n\u001b[1;32m    532\u001b[0m                     \u001b[0minput_shapes\u001b[0m\u001b[0;34m.\u001b[0m\u001b[0mappend\u001b[0m\u001b[0;34m(\u001b[0m\u001b[0mx_elem\u001b[0m\u001b[0;34m.\u001b[0m\u001b[0m_keras_shape\u001b[0m\u001b[0;34m)\u001b[0m\u001b[0;34m\u001b[0m\u001b[0m\n\u001b[1;32m    533\u001b[0m                 \u001b[0;32melif\u001b[0m \u001b[0mhasattr\u001b[0m\u001b[0;34m(\u001b[0m\u001b[0mK\u001b[0m\u001b[0;34m,\u001b[0m \u001b[0;34m'int_shape'\u001b[0m\u001b[0;34m)\u001b[0m\u001b[0;34m:\u001b[0m\u001b[0;34m\u001b[0m\u001b[0m\n\u001b[0;32m--> 534\u001b[0;31m                     \u001b[0minput_shapes\u001b[0m\u001b[0;34m.\u001b[0m\u001b[0mappend\u001b[0m\u001b[0;34m(\u001b[0m\u001b[0mK\u001b[0m\u001b[0;34m.\u001b[0m\u001b[0mint_shape\u001b[0m\u001b[0;34m(\u001b[0m\u001b[0mx_elem\u001b[0m\u001b[0;34m)\u001b[0m\u001b[0;34m)\u001b[0m\u001b[0;34m\u001b[0m\u001b[0m\n\u001b[0m\u001b[1;32m    535\u001b[0m                 \u001b[0;32melse\u001b[0m\u001b[0;34m:\u001b[0m\u001b[0;34m\u001b[0m\u001b[0m\n\u001b[1;32m    536\u001b[0m                     raise ValueError('You tried to call layer \"' + self.name +\n",
      "\u001b[0;32m/usr/local/lib/python3.5/dist-packages/keras/backend/theano_backend.py\u001b[0m in \u001b[0;36mint_shape\u001b[0;34m(x)\u001b[0m\n\u001b[1;32m    126\u001b[0m         \u001b[0;32mreturn\u001b[0m \u001b[0mx\u001b[0m\u001b[0;34m.\u001b[0m\u001b[0m_keras_shape\u001b[0m\u001b[0;34m\u001b[0m\u001b[0m\n\u001b[1;32m    127\u001b[0m     \u001b[0;32melse\u001b[0m\u001b[0;34m:\u001b[0m\u001b[0;34m\u001b[0m\u001b[0m\n\u001b[0;32m--> 128\u001b[0;31m         \u001b[0;32mraise\u001b[0m \u001b[0mException\u001b[0m\u001b[0;34m(\u001b[0m\u001b[0;34m'Not a Keras tensor:'\u001b[0m\u001b[0;34m,\u001b[0m \u001b[0mx\u001b[0m\u001b[0;34m)\u001b[0m\u001b[0;34m\u001b[0m\u001b[0m\n\u001b[0m\u001b[1;32m    129\u001b[0m \u001b[0;34m\u001b[0m\u001b[0m\n\u001b[1;32m    130\u001b[0m \u001b[0;34m\u001b[0m\u001b[0m\n",
      "\u001b[0;31mException\u001b[0m: ('Not a Keras tensor:', <keras.layers.core.Lambda object at 0x7f2a05edb470>)"
     ]
    }
   ],
   "source": [
    "a=np.asarray((32))\n",
    "a=Lambda(a)\n",
    "model = Sequential()\n",
    "model.add(Dense(32, input_dim=32))\n",
    "# now: model.output_shape == (None, 32)\n",
    "# note: `None` is the batch dimension\n",
    "\n",
    "model.add(RepeatVector(3))\n",
    "\n",
    "o = model(a)\n",
    "\n",
    "print (o.shape)"
   ]
  },
  {
   "cell_type": "code",
   "execution_count": 2,
   "metadata": {},
   "outputs": [
    {
     "name": "stderr",
     "output_type": "stream",
     "text": [
      "/usr/local/lib/python3.5/dist-packages/keras/engine/topology.py:368: UserWarning: The `regularizers` property of layers/models is deprecated. Regularization losses are now managed via the `losses` layer/model property.\n",
      "  warnings.warn('The `regularizers` property of '\n"
     ]
    },
    {
     "name": "stdout",
     "output_type": "stream",
     "text": [
      "____________________________________________________________________________________________________\n",
      "Layer (type)                     Output Shape          Param #     Connected to                     \n",
      "====================================================================================================\n",
      "dense_1 (Dense)                  (None, 300)           614700      dense_input_1[0][0]              \n",
      "____________________________________________________________________________________________________\n",
      "repeatvector_1 (RepeatVector)    (None, 40, 300)       0           dense_1[0][0]                    \n",
      "____________________________________________________________________________________________________\n",
      "embedding_1 (Embedding)          (None, 40, 300)       2674500     embedding_input_1[0][0]          \n",
      "____________________________________________________________________________________________________\n",
      "lstm_1 (LSTM)                    (None, 40, 256)       570368      embedding_1[0][0]                \n",
      "____________________________________________________________________________________________________\n",
      "timedistributed_1 (TimeDistribut (None, 40, 300)       77100       lstm_1[0][0]                     \n",
      "____________________________________________________________________________________________________\n",
      "bidirectional_1 (Bidirectional)  (None, 512)           1140736     merge_1[0][0]                    \n",
      "____________________________________________________________________________________________________\n",
      "dense_3 (Dense)                  (None, 8915)          4573395     bidirectional_1[0][0]            \n",
      "____________________________________________________________________________________________________\n",
      "activation_1 (Activation)        (None, 8915)          0           dense_3[0][0]                    \n",
      "====================================================================================================\n",
      "Total params: 9,650,799\n",
      "Trainable params: 9,650,799\n",
      "Non-trainable params: 0\n",
      "____________________________________________________________________________________________________\n"
     ]
    }
   ],
   "source": [
    "embedding_size = 300\n",
    "max_len = 40\n",
    "vocab_size = 8915\n",
    "\n",
    "image_model = Sequential([\n",
    "        Dense(embedding_size, input_shape=(2048,), activation='relu'),\n",
    "        RepeatVector(max_len)\n",
    "    ])\n",
    "\n",
    "caption_model = Sequential([\n",
    "        Embedding(vocab_size, embedding_size, input_length=max_len),\n",
    "        LSTM(256, return_sequences=True),\n",
    "        TimeDistributed(Dense(300))\n",
    "    ])\n",
    "\n",
    "final_model = Sequential([\n",
    "        Merge([image_model, caption_model], mode='concat', concat_axis=1),\n",
    "        Bidirectional(LSTM(256, return_sequences=False)),\n",
    "        Dense(vocab_size),\n",
    "        Activation('softmax')\n",
    "    ])\n",
    "\n",
    "final_model.summary()"
   ]
  },
  {
   "cell_type": "code",
   "execution_count": 3,
   "metadata": {},
   "outputs": [
    {
     "name": "stdout",
     "output_type": "stream",
     "text": [
      "____________________________________________________________________________________________________\n",
      "Layer (type)                     Output Shape          Param #     Connected to                     \n",
      "====================================================================================================\n",
      "dense_1 (Dense)                  (None, 300)           614700      dense_input_1[0][0]              \n",
      "____________________________________________________________________________________________________\n",
      "repeatvector_1 (RepeatVector)    (None, 40, 300)       0           dense_1[0][0]                    \n",
      "====================================================================================================\n",
      "Total params: 614,700\n",
      "Trainable params: 614,700\n",
      "Non-trainable params: 0\n",
      "____________________________________________________________________________________________________\n",
      "____________________________________________________________________________________________________\n",
      "Layer (type)                     Output Shape          Param #     Connected to                     \n",
      "====================================================================================================\n",
      "embedding_1 (Embedding)          (None, 40, 300)       2674500     embedding_input_1[0][0]          \n",
      "____________________________________________________________________________________________________\n",
      "lstm_1 (LSTM)                    (None, 40, 256)       570368      embedding_1[0][0]                \n",
      "____________________________________________________________________________________________________\n",
      "timedistributed_1 (TimeDistribut (None, 40, 300)       77100       lstm_1[0][0]                     \n",
      "====================================================================================================\n",
      "Total params: 3,321,968\n",
      "Trainable params: 3,321,968\n",
      "Non-trainable params: 0\n",
      "____________________________________________________________________________________________________\n"
     ]
    }
   ],
   "source": [
    "image_model.summary()\n",
    "caption_model.summary()"
   ]
  },
  {
   "cell_type": "code",
   "execution_count": 5,
   "metadata": {
    "collapsed": true
   },
   "outputs": [],
   "source": [
    "from time import gmtime, strftime\n",
    "\n",
    "adam = Adam(lr=0.01, beta_1=0.9, beta_2=0.999, epsilon=0.01, decay=0.0)\n",
    "\n",
    "final_model.compile(loss='categorical_crossentropy', optimizer=adam, metrics=['accuracy'])\n",
    "\n",
    "checkpointer = ModelCheckpoint(filepath=str(strftime(\"%Y-%m-%d %H:%M:%S\"))+'.h5', monitor='loss', verbose=1, save_best_only=True)\n",
    "\n",
    "history = History()"
   ]
  },
  {
   "cell_type": "code",
   "execution_count": null,
   "metadata": {},
   "outputs": [
    {
     "name": "stdout",
     "output_type": "stream",
     "text": [
      "Epoch 1/3\n",
      "447744/447904 [============================>.] - ETA: 0s - loss: 3.5126 - acc: 0.3522"
     ]
    },
    {
     "name": "stderr",
     "output_type": "stream",
     "text": [
      "/usr/local/lib/python3.5/dist-packages/keras/engine/training.py:1527: UserWarning: Epoch comprised more than `samples_per_epoch` samples, which might affect learning results. Set `samples_per_epoch` correctly to avoid this warning.\n",
      "  warnings.warn('Epoch comprised more than '\n"
     ]
    },
    {
     "name": "stdout",
     "output_type": "stream",
     "text": [
      "Epoch 00000: loss improved from inf to 3.51259, saving model to 2017-12-03 21:28:14.hdf5\n",
      "448000/447904 [==============================] - 2592s - loss: 3.5126 - acc: 0.3522  \n",
      "Epoch 2/3\n",
      "447744/447904 [============================>.] - ETA: 0s - loss: 3.1655 - acc: 0.3857Epoch 00001: loss improved from 3.51259 to 3.16540, saving model to 2017-12-03 21:28:14.hdf5\n",
      "448000/447904 [==============================] - 2477s - loss: 3.1654 - acc: 0.3857  \n",
      "Epoch 3/3\n",
      "318208/447904 [====================>.........] - ETA: 734s - loss: 2.9578 - acc: 0.4064"
     ]
    }
   ],
   "source": [
    "final_model.fit_generator(data_generator(batch_size=256), samples_per_epoch=samples_per_epoch, nb_epoch=3, verbose=1, callbacks=[checkpointer, history])\n",
    "\n",
    "t = strftime(\"%Y-%m-%d %H:%M:%S\")\n",
    "\n",
    "final_model.save_weights(str(t)+'_adamOptimizer.h5')"
   ]
  },
  {
   "cell_type": "code",
   "execution_count": 7,
   "metadata": {},
   "outputs": [
    {
     "name": "stdout",
     "output_type": "stream",
     "text": [
      "Epoch 1/5\n",
      "448000/447904 [==============================] - 970s - loss: 2.6680 - acc: 0.4415   "
     ]
    },
    {
     "name": "stderr",
     "output_type": "stream",
     "text": [
      "/usr/local/lib/python3.5/dist-packages/keras/engine/training.py:1527: UserWarning: Epoch comprised more than `samples_per_epoch` samples, which might affect learning results. Set `samples_per_epoch` correctly to avoid this warning.\n",
      "  warnings.warn('Epoch comprised more than '\n"
     ]
    },
    {
     "name": "stdout",
     "output_type": "stream",
     "text": [
      "\n",
      "Epoch 2/5\n",
      "448000/447904 [==============================] - 1290s - loss: 2.5686 - acc: 0.4534  \n",
      "Epoch 3/5\n",
      "448000/447904 [==============================] - 1386s - loss: 2.4901 - acc: 0.4635  \n",
      "Epoch 4/5\n",
      "448000/447904 [==============================] - 1350s - loss: 2.4107 - acc: 0.4743  \n",
      "Epoch 5/5\n",
      "448000/447904 [==============================] - 1386s - loss: 2.3475 - acc: 0.4816  \n"
     ]
    }
   ],
   "source": [
    "final_model.optimizer.lr = 0.008\n",
    "\n",
    "final_model.fit_generator(data_generator(batch_size=256), samples_per_epoch=samples_per_epoch, nb_epoch=5, verbose=1, callbacks=[history])\n",
    "\n",
    "t = strftime(\"%Y-%m-%d %H:%M:%S\")\n",
    "\n",
    "final_model.save_weights(str(t)+'_adamOptimizer.h5')"
   ]
  },
  {
   "cell_type": "code",
   "execution_count": 10,
   "metadata": {},
   "outputs": [
    {
     "name": "stdout",
     "output_type": "stream",
     "text": [
      "Epoch 1/5\n",
      "448000/447904 [==============================] - 1364s - loss: 1.8760 - acc: 0.5415  "
     ]
    },
    {
     "name": "stderr",
     "output_type": "stream",
     "text": [
      "/usr/local/lib/python3.5/dist-packages/keras/engine/training.py:1527: UserWarning: Epoch comprised more than `samples_per_epoch` samples, which might affect learning results. Set `samples_per_epoch` correctly to avoid this warning.\n",
      "  warnings.warn('Epoch comprised more than '\n"
     ]
    },
    {
     "name": "stdout",
     "output_type": "stream",
     "text": [
      "\n",
      "Epoch 2/5\n",
      "448000/447904 [==============================] - 1360s - loss: 1.8409 - acc: 0.5465  \n",
      "Epoch 3/5\n",
      "448000/447904 [==============================] - 1381s - loss: 1.8044 - acc: 0.5527  \n",
      "Epoch 4/5\n",
      "448000/447904 [==============================] - 1389s - loss: 1.7655 - acc: 0.5592  \n",
      "Epoch 5/5\n",
      "448000/447904 [==============================] - 1273s - loss: 1.7425 - acc: 0.5622  \n"
     ]
    }
   ],
   "source": [
    "final_model.optimizer.lr = 0.006\n",
    "\n",
    "final_model.fit_generator(data_generator(batch_size=256), samples_per_epoch=samples_per_epoch, nb_epoch=5, verbose=1, callbacks=[history])\n",
    "\n",
    "t = strftime(\"%Y-%m-%d %H:%M:%S\")\n",
    "\n",
    "final_model.save_weights(str(t)+'_adamOptimizer.h5')"
   ]
  },
  {
   "cell_type": "code",
   "execution_count": 11,
   "metadata": {},
   "outputs": [
    {
     "name": "stdout",
     "output_type": "stream",
     "text": [
      "Epoch 1/5\n",
      "448000/447904 [==============================] - 1308s - loss: 1.7296 - acc: 0.5624  "
     ]
    },
    {
     "name": "stderr",
     "output_type": "stream",
     "text": [
      "/usr/local/lib/python3.5/dist-packages/keras/engine/training.py:1527: UserWarning: Epoch comprised more than `samples_per_epoch` samples, which might affect learning results. Set `samples_per_epoch` correctly to avoid this warning.\n",
      "  warnings.warn('Epoch comprised more than '\n"
     ]
    },
    {
     "name": "stdout",
     "output_type": "stream",
     "text": [
      "\n",
      "Epoch 2/5\n",
      "448000/447904 [==============================] - 1397s - loss: 1.6989 - acc: 0.5672  \n",
      "Epoch 3/5\n",
      "448000/447904 [==============================] - 1427s - loss: 1.6709 - acc: 0.5712  \n",
      "Epoch 4/5\n",
      "448000/447904 [==============================] - 1335s - loss: 1.6398 - acc: 0.5771  \n",
      "Epoch 5/5\n",
      "448000/447904 [==============================] - 1324s - loss: 1.6170 - acc: 0.5796  \n"
     ]
    }
   ],
   "source": [
    "final_model.optimizer.lr = 0.004\n",
    "\n",
    "final_model.fit_generator(data_generator(batch_size=256), samples_per_epoch=samples_per_epoch, nb_epoch=5, verbose=1, callbacks=[history])\n",
    "\n",
    "t = strftime(\"%Y-%m-%d %H:%M:%S\")\n",
    "\n",
    "final_model.save_weights(str(t)+'_adamOptimizer.h5')"
   ]
  },
  {
   "cell_type": "code",
   "execution_count": 12,
   "metadata": {},
   "outputs": [
    {
     "name": "stdout",
     "output_type": "stream",
     "text": [
      "Epoch 1/5\n",
      "448000/447904 [==============================] - 1164s - loss: 1.6091 - acc: 0.5806  "
     ]
    },
    {
     "name": "stderr",
     "output_type": "stream",
     "text": [
      "/usr/local/lib/python3.5/dist-packages/keras/engine/training.py:1527: UserWarning: Epoch comprised more than `samples_per_epoch` samples, which might affect learning results. Set `samples_per_epoch` correctly to avoid this warning.\n",
      "  warnings.warn('Epoch comprised more than '\n"
     ]
    },
    {
     "name": "stdout",
     "output_type": "stream",
     "text": [
      "\n",
      "Epoch 2/5\n",
      "448000/447904 [==============================] - 965s - loss: 1.5813 - acc: 0.5853   \n",
      "Epoch 3/5\n",
      "448000/447904 [==============================] - 943s - loss: 1.5575 - acc: 0.5890   \n",
      "Epoch 4/5\n",
      "448000/447904 [==============================] - 948s - loss: 1.5243 - acc: 0.5961   \n",
      "Epoch 5/5\n",
      "448000/447904 [==============================] - 957s - loss: 1.5072 - acc: 0.5991   \n"
     ]
    }
   ],
   "source": [
    "final_model.optimizer.lr = 0.002\n",
    "\n",
    "final_model.fit_generator(data_generator(batch_size=256), samples_per_epoch=samples_per_epoch, nb_epoch=5, verbose=1, callbacks=[history])\n",
    "\n",
    "t = strftime(\"%Y-%m-%d %H:%M:%S\")\n",
    "\n",
    "final_model.save_weights(str(t)+'_adamOptimizer.h5')"
   ]
  },
  {
   "cell_type": "code",
   "execution_count": 13,
   "metadata": {},
   "outputs": [
    {
     "name": "stdout",
     "output_type": "stream",
     "text": [
      "Epoch 1/5\n",
      "448000/447904 [==============================] - 969s - loss: 1.5053 - acc: 0.5980   "
     ]
    },
    {
     "name": "stderr",
     "output_type": "stream",
     "text": [
      "/usr/local/lib/python3.5/dist-packages/keras/engine/training.py:1527: UserWarning: Epoch comprised more than `samples_per_epoch` samples, which might affect learning results. Set `samples_per_epoch` correctly to avoid this warning.\n",
      "  warnings.warn('Epoch comprised more than '\n"
     ]
    },
    {
     "name": "stdout",
     "output_type": "stream",
     "text": [
      "\n",
      "Epoch 2/5\n",
      "448000/447904 [==============================] - 995s - loss: 1.4787 - acc: 0.6039   \n",
      "Epoch 3/5\n",
      "448000/447904 [==============================] - 999s - loss: 1.4661 - acc: 0.6057   \n",
      "Epoch 4/5\n",
      "448000/447904 [==============================] - 956s - loss: 1.4330 - acc: 0.6124   \n",
      "Epoch 5/5\n",
      "448000/447904 [==============================] - 948s - loss: 1.4282 - acc: 0.6131   \n"
     ]
    }
   ],
   "source": [
    "final_model.optimizer.lr = 0.001\n",
    "\n",
    "final_model.fit_generator(data_generator(batch_size=256), samples_per_epoch=samples_per_epoch, nb_epoch=5, verbose=1, callbacks=[history])\n",
    "\n",
    "t = strftime(\"%Y-%m-%d %H:%M:%S\")\n",
    "\n",
    "final_model.save_weights(str(t)+'_adamOptimizer.h5')"
   ]
  },
  {
   "cell_type": "code",
   "execution_count": 6,
   "metadata": {
    "collapsed": true
   },
   "outputs": [],
   "source": [
    "final_model.load_weights('2017-12-04 20:00:24_loss-1.2659_acc-64.56_adamOptimizer.h5')"
   ]
  },
  {
   "cell_type": "code",
   "execution_count": 21,
   "metadata": {},
   "outputs": [
    {
     "name": "stdout",
     "output_type": "stream",
     "text": [
      "Epoch 1/5\n",
      "448000/447904 [==============================] - 1019s - loss: 1.3615 - acc: 0.6242  "
     ]
    },
    {
     "name": "stderr",
     "output_type": "stream",
     "text": [
      "/usr/local/lib/python3.5/dist-packages/keras/engine/training.py:1527: UserWarning: Epoch comprised more than `samples_per_epoch` samples, which might affect learning results. Set `samples_per_epoch` correctly to avoid this warning.\n",
      "  warnings.warn('Epoch comprised more than '\n"
     ]
    },
    {
     "name": "stdout",
     "output_type": "stream",
     "text": [
      "\n",
      "Epoch 2/5\n",
      "448000/447904 [==============================] - 1075s - loss: 1.3249 - acc: 0.6322  \n",
      "Epoch 3/5\n",
      "448000/447904 [==============================] - 1036s - loss: 1.3101 - acc: 0.6359  \n",
      "Epoch 4/5\n",
      "448000/447904 [==============================] - 1004s - loss: 1.2835 - acc: 0.6419  \n",
      "Epoch 5/5\n",
      "448000/447904 [==============================] - 1084s - loss: 1.2659 - acc: 0.6456  \n"
     ]
    }
   ],
   "source": [
    "final_model.optimizer.lr = 0.001\n",
    "\n",
    "final_model.fit_generator(data_generator(batch_size=256), samples_per_epoch=samples_per_epoch, nb_epoch=5, verbose=1, callbacks=[history])\n",
    "\n",
    "t = strftime(\"%Y-%m-%d %H:%M:%S\")\n",
    "\n",
    "final_model.save_weights(str(t)+'_adamOptimizer.h5')"
   ]
  },
  {
   "cell_type": "code",
   "execution_count": 7,
   "metadata": {},
   "outputs": [
    {
     "name": "stdout",
     "output_type": "stream",
     "text": [
      "Epoch 1/5\n",
      "448000/447904 [==============================] - 1140s - loss: 1.0928 - acc: 0.6933  "
     ]
    },
    {
     "name": "stderr",
     "output_type": "stream",
     "text": [
      "/usr/local/lib/python3.5/dist-packages/keras/engine/training.py:1527: UserWarning: Epoch comprised more than `samples_per_epoch` samples, which might affect learning results. Set `samples_per_epoch` correctly to avoid this warning.\n",
      "  warnings.warn('Epoch comprised more than '\n"
     ]
    },
    {
     "name": "stdout",
     "output_type": "stream",
     "text": [
      "\n",
      "Epoch 2/5\n",
      "448000/447904 [==============================] - 1421s - loss: 1.0143 - acc: 0.7173  \n",
      "Epoch 3/5\n",
      "448000/447904 [==============================] - 1321s - loss: 0.9716 - acc: 0.7307  \n",
      "Epoch 4/5\n",
      "448000/447904 [==============================] - 1338s - loss: 0.9418 - acc: 0.7406  \n",
      "Epoch 5/5\n",
      "448000/447904 [==============================] - 1389s - loss: 0.9182 - acc: 0.7477  \n"
     ]
    }
   ],
   "source": [
    "final_model.optimizer.lr = 0.001\n",
    "\n",
    "final_model.fit_generator(data_generator(batch_size=256), samples_per_epoch=samples_per_epoch, nb_epoch=5, verbose=1, callbacks=[history])\n",
    "\n",
    "t = strftime(\"%Y-%m-%d %H:%M:%S\")\n",
    "\n",
    "final_model.save_weights(str(t)+'_adamOptimizer.h5')"
   ]
  },
  {
   "cell_type": "code",
   "execution_count": 8,
   "metadata": {},
   "outputs": [
    {
     "name": "stdout",
     "output_type": "stream",
     "text": [
      "Epoch 1/5\n",
      "448000/447904 [==============================] - 1014s - loss: 0.9021 - acc: 0.7525  "
     ]
    },
    {
     "name": "stderr",
     "output_type": "stream",
     "text": [
      "/usr/local/lib/python3.5/dist-packages/keras/engine/training.py:1527: UserWarning: Epoch comprised more than `samples_per_epoch` samples, which might affect learning results. Set `samples_per_epoch` correctly to avoid this warning.\n",
      "  warnings.warn('Epoch comprised more than '\n"
     ]
    },
    {
     "name": "stdout",
     "output_type": "stream",
     "text": [
      "\n",
      "Epoch 2/5\n",
      "448000/447904 [==============================] - 972s - loss: 0.8830 - acc: 0.7586   \n",
      "Epoch 3/5\n",
      "448000/447904 [==============================] - 1217s - loss: 0.8664 - acc: 0.7641  \n",
      "Epoch 4/5\n",
      "448000/447904 [==============================] - 1194s - loss: 0.8517 - acc: 0.7690  \n",
      "Epoch 5/5\n",
      "448000/447904 [==============================] - 1236s - loss: 0.8382 - acc: 0.7730  \n"
     ]
    }
   ],
   "source": [
    "final_model.optimizer.lr = 0.001\n",
    "\n",
    "final_model.fit_generator(data_generator(batch_size=256), samples_per_epoch=samples_per_epoch, nb_epoch=5, verbose=1, callbacks=[history])\n",
    "\n",
    "t = strftime(\"%Y-%m-%d %H:%M:%S\")\n",
    "\n",
    "final_model.save_weights(str(t)+'_adamOptimizer.h5')"
   ]
  },
  {
   "cell_type": "code",
   "execution_count": 9,
   "metadata": {},
   "outputs": [
    {
     "name": "stdout",
     "output_type": "stream",
     "text": [
      "Epoch 1/5\n",
      "448000/447904 [==============================] - 1210s - loss: 0.8310 - acc: 0.7747  "
     ]
    },
    {
     "name": "stderr",
     "output_type": "stream",
     "text": [
      "/usr/local/lib/python3.5/dist-packages/keras/engine/training.py:1527: UserWarning: Epoch comprised more than `samples_per_epoch` samples, which might affect learning results. Set `samples_per_epoch` correctly to avoid this warning.\n",
      "  warnings.warn('Epoch comprised more than '\n"
     ]
    },
    {
     "name": "stdout",
     "output_type": "stream",
     "text": [
      "\n",
      "Epoch 2/5\n",
      "448000/447904 [==============================] - 1218s - loss: 0.8174 - acc: 0.7791  \n",
      "Epoch 3/5\n",
      "448000/447904 [==============================] - 1220s - loss: 0.8051 - acc: 0.7827  \n",
      "Epoch 4/5\n",
      "448000/447904 [==============================] - 1090s - loss: 0.7935 - acc: 0.7866  \n",
      "Epoch 5/5\n",
      "448000/447904 [==============================] - 1110s - loss: 0.7831 - acc: 0.7902  \n"
     ]
    }
   ],
   "source": [
    "final_model.optimizer.lr = 0.001\n",
    "\n",
    "final_model.fit_generator(data_generator(batch_size=256), samples_per_epoch=samples_per_epoch, nb_epoch=5, verbose=1, callbacks=[history])\n",
    "\n",
    "t = strftime(\"%Y-%m-%d %H:%M:%S\")\n",
    "\n",
    "final_model.save_weights(str(t)+'_adamOptimizer.h5')"
   ]
  },
  {
   "cell_type": "code",
   "execution_count": 10,
   "metadata": {},
   "outputs": [
    {
     "name": "stdout",
     "output_type": "stream",
     "text": [
      "Epoch 1/5\n",
      "448000/447904 [==============================] - 937s - loss: 0.7781 - acc: 0.7909   "
     ]
    },
    {
     "name": "stderr",
     "output_type": "stream",
     "text": [
      "/usr/local/lib/python3.5/dist-packages/keras/engine/training.py:1527: UserWarning: Epoch comprised more than `samples_per_epoch` samples, which might affect learning results. Set `samples_per_epoch` correctly to avoid this warning.\n",
      "  warnings.warn('Epoch comprised more than '\n"
     ]
    },
    {
     "name": "stdout",
     "output_type": "stream",
     "text": [
      "\n",
      "Epoch 2/5\n",
      "448000/447904 [==============================] - 931s - loss: 0.7675 - acc: 0.7943   \n",
      "Epoch 3/5\n",
      "448000/447904 [==============================] - 931s - loss: 0.7571 - acc: 0.7979   \n",
      "Epoch 4/5\n",
      "448000/447904 [==============================] - 931s - loss: 0.7472 - acc: 0.8011   \n",
      "Epoch 5/5\n",
      "448000/447904 [==============================] - 1135s - loss: 0.7381 - acc: 0.8042  \n"
     ]
    }
   ],
   "source": [
    "final_model.optimizer.lr = 0.001\n",
    "\n",
    "final_model.fit_generator(data_generator(batch_size=256), samples_per_epoch=samples_per_epoch, nb_epoch=5, verbose=1, callbacks=[history])\n",
    "\n",
    "t = strftime(\"%Y-%m-%d %H:%M:%S\")\n",
    "\n",
    "final_model.save_weights(str(t)+'_adamOptimizer.h5')"
   ]
  },
  {
   "cell_type": "code",
   "execution_count": 50,
   "metadata": {},
   "outputs": [
    {
     "name": "stdout",
     "output_type": "stream",
     "text": [
      "Epoch 1/5\n",
      "448000/447904 [==============================] - 954s - loss: 0.7350 - acc: 0.8042   "
     ]
    },
    {
     "name": "stderr",
     "output_type": "stream",
     "text": [
      "/usr/local/lib/python3.5/dist-packages/keras/engine/training.py:1527: UserWarning: Epoch comprised more than `samples_per_epoch` samples, which might affect learning results. Set `samples_per_epoch` correctly to avoid this warning.\n",
      "  warnings.warn('Epoch comprised more than '\n"
     ]
    },
    {
     "name": "stdout",
     "output_type": "stream",
     "text": [
      "\n",
      "Epoch 2/5\n",
      "448000/447904 [==============================] - 934s - loss: 0.7249 - acc: 0.8076   \n",
      "Epoch 3/5\n",
      "448000/447904 [==============================] - 1015s - loss: 0.7155 - acc: 0.8104  \n",
      "Epoch 4/5\n",
      "448000/447904 [==============================] - 1486s - loss: 0.7072 - acc: 0.8132  \n",
      "Epoch 5/5\n",
      "448000/447904 [==============================] - 1411s - loss: 0.6992 - acc: 0.8154  \n"
     ]
    }
   ],
   "source": [
    "final_model.optimizer.lr = 0.001\n",
    "\n",
    "final_model.fit_generator(data_generator(batch_size=256), samples_per_epoch=samples_per_epoch, nb_epoch=5, verbose=1, callbacks=[history])\n",
    "\n",
    "t = strftime(\"%Y-%m-%d %H:%M:%S\")\n",
    "\n",
    "final_model.save_weights(str(t)+'_adamOptimizer.h5')"
   ]
  },
  {
   "cell_type": "code",
   "execution_count": 51,
   "metadata": {},
   "outputs": [
    {
     "name": "stdout",
     "output_type": "stream",
     "text": [
      "Epoch 1/5\n",
      "448000/447904 [==============================] - 940s - loss: 0.6979 - acc: 0.8152   "
     ]
    },
    {
     "name": "stderr",
     "output_type": "stream",
     "text": [
      "/usr/local/lib/python3.5/dist-packages/keras/engine/training.py:1527: UserWarning: Epoch comprised more than `samples_per_epoch` samples, which might affect learning results. Set `samples_per_epoch` correctly to avoid this warning.\n",
      "  warnings.warn('Epoch comprised more than '\n"
     ]
    },
    {
     "name": "stdout",
     "output_type": "stream",
     "text": [
      "\n",
      "Epoch 2/5\n",
      "448000/447904 [==============================] - 1133s - loss: 0.6900 - acc: 0.8177  \n",
      "Epoch 3/5\n",
      "448000/447904 [==============================] - 1234s - loss: 0.6809 - acc: 0.8206  \n",
      "Epoch 4/5\n",
      "448000/447904 [==============================] - 1215s - loss: 0.6728 - acc: 0.8231  \n",
      "Epoch 5/5\n",
      "448000/447904 [==============================] - 1205s - loss: 0.6661 - acc: 0.8251  \n"
     ]
    }
   ],
   "source": [
    "final_model.optimizer.lr = 0.001\n",
    "\n",
    "final_model.fit_generator(data_generator(batch_size=256), samples_per_epoch=samples_per_epoch, nb_epoch=5, verbose=1, callbacks=[history])\n",
    "\n",
    "t = strftime(\"%Y-%m-%d %H:%M:%S\")\n",
    "\n",
    "final_model.save_weights(str(t)+'_adamOptimizer.h5')"
   ]
  },
  {
   "cell_type": "code",
   "execution_count": 52,
   "metadata": {},
   "outputs": [
    {
     "name": "stdout",
     "output_type": "stream",
     "text": [
      "Epoch 1/5\n",
      "448000/447904 [==============================] - 1141s - loss: 0.6649 - acc: 0.8251  "
     ]
    },
    {
     "name": "stderr",
     "output_type": "stream",
     "text": [
      "/usr/local/lib/python3.5/dist-packages/keras/engine/training.py:1527: UserWarning: Epoch comprised more than `samples_per_epoch` samples, which might affect learning results. Set `samples_per_epoch` correctly to avoid this warning.\n",
      "  warnings.warn('Epoch comprised more than '\n"
     ]
    },
    {
     "name": "stdout",
     "output_type": "stream",
     "text": [
      "\n",
      "Epoch 2/5\n",
      "448000/447904 [==============================] - 932s - loss: 0.6564 - acc: 0.8278   \n",
      "Epoch 3/5\n",
      "448000/447904 [==============================] - 1042s - loss: 0.6485 - acc: 0.8302  \n",
      "Epoch 4/5\n",
      "448000/447904 [==============================] - 1256s - loss: 0.6415 - acc: 0.8323  \n",
      "Epoch 5/5\n",
      "448000/447904 [==============================] - 1309s - loss: 0.6350 - acc: 0.8345  \n"
     ]
    }
   ],
   "source": [
    "final_model.optimizer.lr = 0.001\n",
    "\n",
    "final_model.fit_generator(data_generator(batch_size=256), samples_per_epoch=samples_per_epoch, nb_epoch=5, verbose=1, callbacks=[history])\n",
    "\n",
    "t = strftime(\"%Y-%m-%d %H:%M:%S\")\n",
    "\n",
    "final_model.save_weights(str(t)+'_adamOptimizer.h5')"
   ]
  },
  {
   "cell_type": "code",
   "execution_count": 11,
   "metadata": {
    "collapsed": true
   },
   "outputs": [],
   "source": [
    "def predict_captions(image):\n",
    "    start_word = [\"<start>\"]\n",
    "    while True:\n",
    "        par_caps = [word2idx[i] for i in start_word]\n",
    "        par_caps = sequence.pad_sequences([par_caps], maxlen=max_len, padding='post')\n",
    "        e = encoding_test[image[len(images):]]\n",
    "        preds = final_model.predict([np.array([e]), np.array(par_caps)])\n",
    "        word_pred = idx2word[np.argmax(preds[0])]\n",
    "        start_word.append(word_pred)\n",
    "        \n",
    "        if word_pred == \"<end>\" or len(start_word) > max_len:\n",
    "            break\n",
    "            \n",
    "    return ' '.join(start_word[1:-1])"
   ]
  },
  {
   "cell_type": "code",
   "execution_count": 68,
   "metadata": {},
   "outputs": [
    {
     "name": "stdout",
     "output_type": "stream",
     "text": [
      "./Flickr8k_Dataset/Flickr8k_Dataset/2248487950_c62d0c81a9.jpg\n"
     ]
    },
    {
     "data": {
      "image/png": "[encoded data removed]",
      "text/plain": [
       "<matplotlib.figure.Figure at 0x7f6751ee3438>"
      ]
     },
     "metadata": {},
     "output_type": "display_data"
    },
    {
     "name": "stdout",
     "output_type": "stream",
     "text": [
      "Generated caption: Two men riding in a bike , on the street .\n"
     ]
    },
    {
     "data": {
      "text/plain": [
       "<matplotlib.figure.Figure at 0x7f6750139cc0>"
      ]
     },
     "metadata": {},
     "output_type": "display_data"
    }
   ],
   "source": [
    "from scipy.misc import imread\n",
    "import random\n",
    "\n",
    "r = random.randint(0, len(test_img)-1)\n",
    "\n",
    "try_image = test_img[r]\n",
    "print(try_image)\n",
    "%matplotlib inline\n",
    "plt.imshow(imread(try_image))\n",
    "plt.show()\n",
    "plt.clf()\n",
    "print ('Generated caption:', predict_captions(try_image))"
   ]
  }
 ],
 "metadata": {
  "kernelspec": {
   "display_name": "Python 3",
   "language": "python",
   "name": "python3"
  },
  "language_info": {
   "codemirror_mode": {
    "name": "ipython",
    "version": 3
   },
   "file_extension": ".py",
   "mimetype": "text/x-python",
   "name": "python",
   "nbconvert_exporter": "python",
   "pygments_lexer": "ipython3",
   "version": "3.5.2"
  }
 },
 "nbformat": 4,
 "nbformat_minor": 2
}
